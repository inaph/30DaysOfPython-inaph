{
  "nbformat": 4,
  "nbformat_minor": 0,
  "metadata": {
    "colab": {
      "name": "seperate_lists.ipynb",
      "provenance": [],
      "authorship_tag": "ABX9TyO3cq94ECVJN92Ki3Mbjsvx",
      "include_colab_link": true
    },
    "kernelspec": {
      "name": "python3",
      "display_name": "Python 3"
    }
  },
  "cells": [
    {
      "cell_type": "markdown",
      "metadata": {
        "id": "view-in-github",
        "colab_type": "text"
      },
      "source": [
        "<a href=\"https://colab.research.google.com/github/inaph/30DaysOfPython-inaph/blob/master/seperate_lists.ipynb\" target=\"_parent\"><img src=\"https://colab.research.google.com/assets/colab-badge.svg\" alt=\"Open In Colab\"/></a>"
      ]
    },
    {
      "cell_type": "code",
      "metadata": {
        "id": "GaQ6Sg2Pn5np"
      },
      "source": [
        ""
      ],
      "execution_count": null,
      "outputs": []
    },
    {
      "cell_type": "code",
      "metadata": {
        "colab": {
          "base_uri": "https://localhost:8080/"
        },
        "id": "YEikh7GYoCuA",
        "outputId": "1130fad1-e59e-4879-fa94-d5cad2ea6ab7"
      },
      "source": [
        "data = [\r\n",
        "    \"Andromeda - Shrub\",\r\n",
        "    \"Bellflower - Flower\",\r\n",
        "    \"China Pink - Flower\",\r\n",
        "    \"Daffodil - Flower\",\r\n",
        "    \"Evening Primrose - Flower\",\r\n",
        "    \"French Marigold - Flower\",\r\n",
        "    \"Hydrangea - Shrub\",\r\n",
        "    \"Iris - Flower\",\r\n",
        "    \"Japanese Camellia - Shrub\",\r\n",
        "    \"Lavender - Shrub\",\r\n",
        "    \"Lilac - Shrub\",\r\n",
        "    \"Magnolia - Shrub\",\r\n",
        "    \"Peony - Shrub\",\r\n",
        "    \"Queen Anne's Lace - Flower\",\r\n",
        "    \"Red Hot Poker - Flower\",\r\n",
        "    \"Snapdragon - Flower\",\r\n",
        "    \"Sunflower - Flower\",\r\n",
        "    \"Tiger Lily - Flower\",\r\n",
        "    \"Witch Hazel - Shrub\",\r\n",
        "]\r\n",
        "\r\n",
        "flowers = []\r\n",
        "shrubs = []\r\n",
        "\r\n",
        "\r\n",
        "if \"Flower\" in data:\r\n",
        "     flowers.append(\"Flower\")\r\n",
        "elif 'Shrubs' in data:\r\n",
        "    shrubs.append(\"Shurbs\")\r\n",
        "print (flowers)\r\n",
        "print (shrubs)"
      ],
      "execution_count": 5,
      "outputs": [
        {
          "output_type": "stream",
          "text": [
            "[]\n",
            "[]\n"
          ],
          "name": "stdout"
        }
      ]
    }
  ]
}